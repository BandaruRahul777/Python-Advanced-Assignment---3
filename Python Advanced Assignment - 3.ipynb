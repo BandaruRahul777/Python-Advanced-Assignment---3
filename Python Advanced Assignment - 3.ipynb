{
 "cells": [
  {
   "cell_type": "code",
   "execution_count": null,
   "id": "412f6a1b",
   "metadata": {},
   "outputs": [],
   "source": [
    "Question 1"
   ]
  },
  {
   "cell_type": "code",
   "execution_count": null,
   "id": "6ff10dd8",
   "metadata": {},
   "outputs": [],
   "source": [
    "An abstract class/superclass can be considered as a blueprint for other classes. It allows you to create a set of methods\n",
    "that must be created within any child classes built from the abstract class. A class which contains one or more abstract\n",
    "methods is called an abstract class."
   ]
  },
  {
   "cell_type": "code",
   "execution_count": null,
   "id": "f81beb65",
   "metadata": {},
   "outputs": [],
   "source": [
    "Question 2"
   ]
  },
  {
   "cell_type": "code",
   "execution_count": null,
   "id": "f2b27dd7",
   "metadata": {},
   "outputs": [],
   "source": [
    "When a Class statement's top level contains a basic assignment statement, its usually treated as a class attribute or class\n",
    "level variable.\n",
    "\n",
    "where as assignment statements inside methods are treated as instance attributes or local attributes.\n",
    "\n",
    "When an instance of a class is created a single copy of class attributes is maintained and shared to all instances of class.\n",
    "Where as each instance object maintains its own copy of instance variables."
   ]
  },
  {
   "cell_type": "code",
   "execution_count": null,
   "id": "2db80ce9",
   "metadata": {},
   "outputs": [],
   "source": [
    "Question 3"
   ]
  },
  {
   "cell_type": "code",
   "execution_count": null,
   "id": "03802e49",
   "metadata": {},
   "outputs": [],
   "source": [
    "If a child class has __init__ method, then it will not inherit the __init__ method of the parent class. in other words\n",
    "the __init__ method of the child class overrides the __init__ method of the parent class. so we have to manually call a parent\n",
    "superclass's __init__ using super() method."
   ]
  },
  {
   "cell_type": "code",
   "execution_count": null,
   "id": "c34cc351",
   "metadata": {},
   "outputs": [],
   "source": [
    "Question 4"
   ]
  },
  {
   "cell_type": "code",
   "execution_count": null,
   "id": "79cec42e",
   "metadata": {},
   "outputs": [],
   "source": [
    "super() method can be used to augment, instead of completely replacing, an inherited method."
   ]
  },
  {
   "cell_type": "code",
   "execution_count": null,
   "id": "1c840ff6",
   "metadata": {},
   "outputs": [],
   "source": [
    "Question 5"
   ]
  },
  {
   "cell_type": "code",
   "execution_count": null,
   "id": "8719e158",
   "metadata": {},
   "outputs": [],
   "source": [
    "A Variable which is defined inside a function is local to that function. it is accesible from the point at which it is defined\n",
    "until the end of the function, and exists for as long as the function is existing.\n",
    "\n",
    "Similary a variable inside of a class also has a local variable scope. Variables which are defined in the class body\n",
    "(but outside all methods) are called as class level variables or class attributes. they can be referenced by there bare names\n",
    "within the same scope, but they can also be accessed from outside this scope if we use the attribute access operator (.). on a\n",
    "class or an instance of the class."
   ]
  }
 ],
 "metadata": {
  "kernelspec": {
   "display_name": "Python 3 (ipykernel)",
   "language": "python",
   "name": "python3"
  },
  "language_info": {
   "codemirror_mode": {
    "name": "ipython",
    "version": 3
   },
   "file_extension": ".py",
   "mimetype": "text/x-python",
   "name": "python",
   "nbconvert_exporter": "python",
   "pygments_lexer": "ipython3",
   "version": "3.9.7"
  }
 },
 "nbformat": 4,
 "nbformat_minor": 5
}
